{
 "cells": [
  {
   "cell_type": "code",
   "execution_count": 57,
   "metadata": {
    "collapsed": true,
    "ExecuteTime": {
     "end_time": "2023-12-03T19:22:31.310313Z",
     "start_time": "2023-12-03T19:22:31.278193Z"
    }
   },
   "outputs": [],
   "source": [
    "import java.io.File\n",
    "\n",
    "val testInput =  \"\"\"Game 1: 3 blue, 4 red; 1 red, 2 green, 6 blue; 2 green\n",
    "Game 2: 1 blue, 2 green; 3 green, 4 blue, 1 red; 1 green, 1 blue\n",
    "Game 3: 8 green, 6 blue, 20 red; 5 blue, 4 red, 13 green; 5 green, 1 red\n",
    "Game 4: 1 green, 3 red, 6 blue; 3 green, 6 red; 3 green, 15 blue, 14 red\n",
    "Game 5: 6 red, 1 blue, 3 green; 2 blue, 1 red, 2 green\"\"\"\n",
    "//val input = testInput.split(\"\\n\")\n",
    "val input = File(\"../input_d2.txt\").readLines()"
   ]
  },
  {
   "cell_type": "code",
   "execution_count": 49,
   "outputs": [
    {
     "data": {
      "text/plain": "2176"
     },
     "execution_count": 49,
     "metadata": {},
     "output_type": "execute_result"
    }
   ],
   "source": [
    "input.mapNotNull { inputLine -> \n",
    "    val gameAndPlays = inputLine.split(\":\")\n",
    "    val game = gameAndPlays[0].split(\" \")[1].toInt()\n",
    "    gameAndPlays[1].split(\";\").mapIndexedNotNull { index, play ->\n",
    "        val listOfNumberWithColor = play.trim().split(\",\")\n",
    "        listOfNumberWithColor.map { numberWithColor ->\n",
    "            val numberAndColor = numberWithColor.trim().split(\" \")\n",
    "            val number = numberAndColor[0].trim().toIntOrNull() ?: 0\n",
    "            val color = numberAndColor[1]\n",
    "            if (color == \"red\" && number > 12\n",
    "                    || color == \"green\" && number > 13\n",
    "                    || color == \"blue\" && number > 14\n",
    "            ) {\n",
    "                0\n",
    "            } else {\n",
    "                //println(inputLine)\n",
    "                //println(\"game : $game\")\n",
    "                game\n",
    "            }\n",
    "         }.min()\n",
    "     }.min()\n",
    " }.sum()"
   ],
   "metadata": {
    "collapsed": false,
    "ExecuteTime": {
     "end_time": "2023-12-03T19:07:20.972100Z",
     "start_time": "2023-12-03T19:07:20.899255Z"
    }
   }
  },
  {
   "cell_type": "code",
   "execution_count": 58,
   "outputs": [
    {
     "data": {
      "text/plain": "63700"
     },
     "execution_count": 58,
     "metadata": {},
     "output_type": "execute_result"
    }
   ],
   "source": [
    "input.mapNotNull { inputLine ->\n",
    "    val gameAndPlays = inputLine.split(\":\")\n",
    "    val game = gameAndPlays[0].split(\" \")[1].toInt()\n",
    "    val playsColors = gameAndPlays[1].split(\";\").map { play ->\n",
    "        val listOfNumberWithColor = play.trim().split(\",\")\n",
    "        listOfNumberWithColor.associate { numberWithColor ->\n",
    "            val numberAndColor = numberWithColor.trim().split(\" \")\n",
    "            val number = numberAndColor[0].trim().toIntOrNull() ?: 0\n",
    "            val color = numberAndColor[1]\n",
    "            color to number\n",
    "        }\n",
    "    }\n",
    "    val minRed = playsColors.mapNotNull {\n",
    "        it.get(\"red\")\n",
    "    }.max()\n",
    "    val minGreen = playsColors.mapNotNull {\n",
    "        it.get(\"green\")\n",
    "    }.max()\n",
    "    val minBlue = playsColors.mapNotNull {\n",
    "        it.get(\"blue\")\n",
    "    }.max()\n",
    "    minRed * minGreen * minBlue      \n",
    "}.sum()"
   ],
   "metadata": {
    "collapsed": false,
    "ExecuteTime": {
     "end_time": "2023-12-03T19:22:33.376879Z",
     "start_time": "2023-12-03T19:22:33.288485Z"
    }
   }
  },
  {
   "cell_type": "code",
   "execution_count": null,
   "outputs": [],
   "source": [],
   "metadata": {
    "collapsed": false
   }
  }
 ],
 "metadata": {
  "kernelspec": {
   "display_name": "Kotlin",
   "language": "kotlin",
   "name": "kotlin"
  },
  "language_info": {
   "name": "kotlin",
   "version": "1.9.0",
   "mimetype": "text/x-kotlin",
   "file_extension": ".kt",
   "pygments_lexer": "kotlin",
   "codemirror_mode": "text/x-kotlin",
   "nbconvert_exporter": ""
  }
 },
 "nbformat": 4,
 "nbformat_minor": 0
}
