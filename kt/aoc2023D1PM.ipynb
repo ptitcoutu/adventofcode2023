{
 "cells": [
  {
   "cell_type": "code",
   "execution_count": 2,
   "metadata": {
    "collapsed": true,
    "ExecuteTime": {
     "end_time": "2023-12-03T10:45:32.004126Z",
     "start_time": "2023-12-03T10:45:31.903259Z"
    }
   },
   "outputs": [],
   "source": [
    "val numbers = listOf(\n",
    "   null, \n",
    "   Pair(\"1\",\"one\"),\n",
    "   Pair(\"2\",\"two\"),\n",
    "   Pair(\"3\",\"three\"),\n",
    "   Pair(\"4\",\"four\"),\n",
    "   Pair(\"5\",\"five\"),\n",
    "   Pair(\"6\",\"six\"),\n",
    "   Pair(\"7\",\"seven\"),\n",
    "   Pair(\"8\",\"eight\"),\n",
    "   Pair(\"9\",\"nine\"),\n",
    ")"
   ]
  },
  {
   "cell_type": "code",
   "execution_count": 6,
   "outputs": [
    {
     "data": {
      "text/plain": "56017"
     },
     "execution_count": 6,
     "metadata": {},
     "output_type": "execute_result"
    }
   ],
   "source": [
    "import java.io.File\n",
    "\n",
    "val input = File(\"../input_d1.txt\").readLines()//\"zoneightwo\"\n",
    "input.map { test ->\n",
    "    val leftDigit = numbers\n",
    "            .mapIndexed { index, pair ->\n",
    "                if (pair != null) Pair(index, listOf(test.indexOf(pair.first), test.indexOf(pair.second)).filter { it > -1 }.minOrNull()\n",
    "                        ?: -1) else Pair(index, -1)\n",
    "            }\n",
    "            .filter { pair -> pair.second >= 0 }.minBy { pair -> pair.second }.first\n",
    "    val rightDigit = numbers\n",
    "            .mapIndexed { index, pair ->\n",
    "                if (pair != null) Pair(index, max(test.lastIndexOf(pair.first), test.lastIndexOf(pair.second))) else Pair(index, -1)\n",
    "            }\n",
    "            .filter { pair ->\n",
    "                pair.second >= 0\n",
    "            }.maxBy { pair ->\n",
    "                pair.second\n",
    "            }.first\n",
    "    val result = leftDigit * 10 + rightDigit\n",
    "    result\n",
    "}.sum()\n",
    " \n"
   ],
   "metadata": {
    "collapsed": false,
    "ExecuteTime": {
     "end_time": "2023-12-03T10:45:44.536286Z",
     "start_time": "2023-12-03T10:45:44.307621Z"
    }
   }
  },
  {
   "cell_type": "code",
   "execution_count": 5,
   "outputs": [
    {
     "data": {
      "text/plain": "-1"
     },
     "execution_count": 5,
     "metadata": {},
     "output_type": "execute_result"
    }
   ],
   "source": [
    "\"zoneight234\".lastIndexOf(\"five\")"
   ],
   "metadata": {
    "collapsed": false,
    "ExecuteTime": {
     "end_time": "2023-12-03T10:45:41.523106Z",
     "start_time": "2023-12-03T10:45:41.481968Z"
    }
   }
  },
  {
   "cell_type": "code",
   "execution_count": 17,
   "outputs": [
    {
     "data": {
      "text/plain": "3"
     },
     "execution_count": 17,
     "metadata": {},
     "output_type": "execute_result"
    }
   ],
   "source": [
    "\"zoneight234\".lastIndexOf(\"eight\")"
   ],
   "metadata": {
    "collapsed": false,
    "ExecuteTime": {
     "end_time": "2023-12-03T09:40:05.982584Z",
     "start_time": "2023-12-03T09:40:05.954873Z"
    }
   }
  },
  {
   "cell_type": "code",
   "execution_count": 18,
   "outputs": [
    {
     "data": {
      "text/plain": "10"
     },
     "execution_count": 18,
     "metadata": {},
     "output_type": "execute_result"
    }
   ],
   "source": [
    "\"zoneight234\".lastIndexOf(\"4\")"
   ],
   "metadata": {
    "collapsed": false,
    "ExecuteTime": {
     "end_time": "2023-12-03T09:40:17.412547Z",
     "start_time": "2023-12-03T09:40:17.379227Z"
    }
   }
  },
  {
   "cell_type": "code",
   "execution_count": 4,
   "outputs": [
    {
     "name": "stderr",
     "output_type": "stream",
     "text": [
      "Line_4.jupyter.kts (3:39 - 43) Unresolved reference: test\n",
      "Line_4.jupyter.kts (3:69 - 73) Unresolved reference: test\n",
      "Line_4.jupyter.kts (11:17 - 21) Unresolved reference: test"
     ]
    }
   ],
   "source": [
    "val rightDigit = numbers\n",
    "  .mapIndexed { index, pair ->  \n",
    "      if (pair!=null) Pair(index, max(test.lastIndexOf(pair.first), test.lastIndexOf(pair.second))) else Pair(index, -1) \n",
    "  } \n",
    "  \n",
    "  /*.filter { pair -> \n",
    "      pair.second >= 0 \n",
    "  }.maxBy { pair -> \n",
    "      pair.second \n",
    "  }.first*/\n",
    "listOf(numbers, test, rightDigit)"
   ],
   "metadata": {
    "collapsed": false,
    "ExecuteTime": {
     "end_time": "2023-12-03T10:45:37.179999Z",
     "start_time": "2023-12-03T10:45:37.113130Z"
    }
   }
  },
  {
   "cell_type": "code",
   "execution_count": 34,
   "outputs": [
    {
     "data": {
      "text/plain": "[[9, -1], 9]"
     },
     "execution_count": 34,
     "metadata": {},
     "output_type": "execute_result"
    }
   ],
   "source": [
    "listOf(listOf(test.lastIndexOf(\"3\"),test.lastIndexOf(\"three\")), max(test.lastIndexOf(\"3\"),test.lastIndexOf(\"three\"))) "
   ],
   "metadata": {
    "collapsed": false,
    "ExecuteTime": {
     "end_time": "2023-12-03T09:45:41.498450Z",
     "start_time": "2023-12-03T09:45:41.442864Z"
    }
   }
  },
  {
   "cell_type": "code",
   "execution_count": null,
   "outputs": [],
   "source": [],
   "metadata": {
    "collapsed": false
   }
  }
 ],
 "metadata": {
  "kernelspec": {
   "display_name": "Kotlin",
   "language": "kotlin",
   "name": "kotlin"
  },
  "language_info": {
   "name": "kotlin",
   "version": "1.9.0",
   "mimetype": "text/x-kotlin",
   "file_extension": ".kt",
   "pygments_lexer": "kotlin",
   "codemirror_mode": "text/x-kotlin",
   "nbconvert_exporter": ""
  }
 },
 "nbformat": 4,
 "nbformat_minor": 0
}
